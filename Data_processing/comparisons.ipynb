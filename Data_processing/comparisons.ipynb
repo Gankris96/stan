{
 "cells": [
  {
   "cell_type": "code",
   "execution_count": 1,
   "metadata": {},
   "outputs": [],
   "source": [
    "import pandas as pd\n",
    "from datetime import datetime\n",
    "import matplotlib.pyplot as plt"
   ]
  },
  {
   "cell_type": "code",
   "execution_count": 2,
   "metadata": {},
   "outputs": [],
   "source": [
    "old_data = 'ctu-60-1/ctu-60-1_192.168.1.195.csv'\n",
    "\n",
    "df_old = pd.read_csv(old_data)"
   ]
  },
  {
   "cell_type": "code",
   "execution_count": 3,
   "metadata": {},
   "outputs": [
    {
     "data": {
      "text/plain": [
       "(624, 29)"
      ]
     },
     "execution_count": 3,
     "metadata": {},
     "output_type": "execute_result"
    }
   ],
   "source": [
    "sorted_df = df_old.sort_values(by='te')\n",
    "sorted_df.shape"
   ]
  },
  {
   "cell_type": "code",
   "execution_count": 4,
   "metadata": {},
   "outputs": [
    {
     "data": {
      "text/html": [
       "<div>\n",
       "<style scoped>\n",
       "    .dataframe tbody tr th:only-of-type {\n",
       "        vertical-align: middle;\n",
       "    }\n",
       "\n",
       "    .dataframe tbody tr th {\n",
       "        vertical-align: top;\n",
       "    }\n",
       "\n",
       "    .dataframe thead th {\n",
       "        text-align: right;\n",
       "    }\n",
       "</style>\n",
       "<table border=\"1\" class=\"dataframe\">\n",
       "  <thead>\n",
       "    <tr style=\"text-align: right;\">\n",
       "      <th></th>\n",
       "      <th>ts</th>\n",
       "      <th>uid</th>\n",
       "      <th>sa</th>\n",
       "      <th>sp</th>\n",
       "      <th>da</th>\n",
       "      <th>dp</th>\n",
       "      <th>pr</th>\n",
       "      <th>stos</th>\n",
       "      <th>td</th>\n",
       "      <th>orig_bytes</th>\n",
       "      <th>...</th>\n",
       "      <th>resp_ip_bytes</th>\n",
       "      <th>tunnel_parents</th>\n",
       "      <th>label</th>\n",
       "      <th>detailed-label</th>\n",
       "      <th>te</th>\n",
       "      <th>teDelta</th>\n",
       "      <th>teT</th>\n",
       "      <th>teS</th>\n",
       "      <th>byt</th>\n",
       "      <th>pkt</th>\n",
       "    </tr>\n",
       "  </thead>\n",
       "  <tbody>\n",
       "    <tr>\n",
       "      <th>0</th>\n",
       "      <td>1.568940e+09</td>\n",
       "      <td>CxKxhj4MGsf5GcqoX6</td>\n",
       "      <td>192.168.1.1</td>\n",
       "      <td>47805</td>\n",
       "      <td>192.168.1.195</td>\n",
       "      <td>22</td>\n",
       "      <td>tcp</td>\n",
       "      <td>-</td>\n",
       "      <td>206.663644</td>\n",
       "      <td>2768.0</td>\n",
       "      <td>...</td>\n",
       "      <td>36368.0</td>\n",
       "      <td>-</td>\n",
       "      <td>Benign</td>\n",
       "      <td>-</td>\n",
       "      <td>2019-09-20 00:40:41.665906944</td>\n",
       "      <td>0.000000</td>\n",
       "      <td>0</td>\n",
       "      <td>2441</td>\n",
       "      <td>76688.0</td>\n",
       "      <td>668</td>\n",
       "    </tr>\n",
       "    <tr>\n",
       "      <th>1</th>\n",
       "      <td>1.568940e+09</td>\n",
       "      <td>CEjjLs1iwWYrt8C4O6</td>\n",
       "      <td>192.168.1.195</td>\n",
       "      <td>123</td>\n",
       "      <td>212.111.30.190</td>\n",
       "      <td>123</td>\n",
       "      <td>udp</td>\n",
       "      <td>-</td>\n",
       "      <td>0.008239</td>\n",
       "      <td>96.0</td>\n",
       "      <td>...</td>\n",
       "      <td>152.0</td>\n",
       "      <td>-</td>\n",
       "      <td>Benign</td>\n",
       "      <td>-</td>\n",
       "      <td>2019-09-20 00:40:58.775321856</td>\n",
       "      <td>17.109415</td>\n",
       "      <td>0</td>\n",
       "      <td>2458</td>\n",
       "      <td>496.0</td>\n",
       "      <td>4</td>\n",
       "    </tr>\n",
       "    <tr>\n",
       "      <th>2</th>\n",
       "      <td>1.568940e+09</td>\n",
       "      <td>CHNzmm3tMu5Gse9Zvg</td>\n",
       "      <td>192.168.1.195</td>\n",
       "      <td>123</td>\n",
       "      <td>89.221.218.101</td>\n",
       "      <td>123</td>\n",
       "      <td>udp</td>\n",
       "      <td>-</td>\n",
       "      <td>0.007496</td>\n",
       "      <td>96.0</td>\n",
       "      <td>...</td>\n",
       "      <td>152.0</td>\n",
       "      <td>-</td>\n",
       "      <td>Benign</td>\n",
       "      <td>-</td>\n",
       "      <td>2019-09-20 00:41:59.775272960</td>\n",
       "      <td>60.999951</td>\n",
       "      <td>0</td>\n",
       "      <td>2519</td>\n",
       "      <td>496.0</td>\n",
       "      <td>4</td>\n",
       "    </tr>\n",
       "    <tr>\n",
       "      <th>3</th>\n",
       "      <td>1.568940e+09</td>\n",
       "      <td>CDlbowGNUwsHckADd</td>\n",
       "      <td>192.168.1.195</td>\n",
       "      <td>37120</td>\n",
       "      <td>102.165.48.81</td>\n",
       "      <td>17769</td>\n",
       "      <td>tcp</td>\n",
       "      <td>-</td>\n",
       "      <td>1.848549</td>\n",
       "      <td>518.0</td>\n",
       "      <td>...</td>\n",
       "      <td>540.0</td>\n",
       "      <td>-</td>\n",
       "      <td>Malicious</td>\n",
       "      <td>C&amp;C-HeartBeat</td>\n",
       "      <td>2019-09-20 00:43:51.016249856</td>\n",
       "      <td>111.240977</td>\n",
       "      <td>0</td>\n",
       "      <td>2631</td>\n",
       "      <td>2696.0</td>\n",
       "      <td>18</td>\n",
       "    </tr>\n",
       "    <tr>\n",
       "      <th>4</th>\n",
       "      <td>1.568940e+09</td>\n",
       "      <td>C2n3PK3bA92hAgTHda</td>\n",
       "      <td>192.168.1.195</td>\n",
       "      <td>37122</td>\n",
       "      <td>102.165.48.81</td>\n",
       "      <td>17769</td>\n",
       "      <td>tcp</td>\n",
       "      <td>-</td>\n",
       "      <td>1.902519</td>\n",
       "      <td>518.0</td>\n",
       "      <td>...</td>\n",
       "      <td>540.0</td>\n",
       "      <td>-</td>\n",
       "      <td>Malicious</td>\n",
       "      <td>C&amp;C-HeartBeat</td>\n",
       "      <td>2019-09-20 00:44:11.392718080</td>\n",
       "      <td>20.376468</td>\n",
       "      <td>0</td>\n",
       "      <td>2651</td>\n",
       "      <td>2696.0</td>\n",
       "      <td>18</td>\n",
       "    </tr>\n",
       "  </tbody>\n",
       "</table>\n",
       "<p>5 rows × 29 columns</p>\n",
       "</div>"
      ],
      "text/plain": [
       "             ts                 uid             sa     sp              da  \\\n",
       "0  1.568940e+09  CxKxhj4MGsf5GcqoX6    192.168.1.1  47805   192.168.1.195   \n",
       "1  1.568940e+09  CEjjLs1iwWYrt8C4O6  192.168.1.195    123  212.111.30.190   \n",
       "2  1.568940e+09  CHNzmm3tMu5Gse9Zvg  192.168.1.195    123  89.221.218.101   \n",
       "3  1.568940e+09   CDlbowGNUwsHckADd  192.168.1.195  37120   102.165.48.81   \n",
       "4  1.568940e+09  C2n3PK3bA92hAgTHda  192.168.1.195  37122   102.165.48.81   \n",
       "\n",
       "      dp   pr stos          td  orig_bytes  ...  resp_ip_bytes tunnel_parents  \\\n",
       "0     22  tcp    -  206.663644      2768.0  ...        36368.0              -   \n",
       "1    123  udp    -    0.008239        96.0  ...          152.0              -   \n",
       "2    123  udp    -    0.007496        96.0  ...          152.0              -   \n",
       "3  17769  tcp    -    1.848549       518.0  ...          540.0              -   \n",
       "4  17769  tcp    -    1.902519       518.0  ...          540.0              -   \n",
       "\n",
       "       label detailed-label                             te     teDelta  teT  \\\n",
       "0     Benign              -  2019-09-20 00:40:41.665906944    0.000000    0   \n",
       "1     Benign              -  2019-09-20 00:40:58.775321856   17.109415    0   \n",
       "2     Benign              -  2019-09-20 00:41:59.775272960   60.999951    0   \n",
       "3  Malicious  C&C-HeartBeat  2019-09-20 00:43:51.016249856  111.240977    0   \n",
       "4  Malicious  C&C-HeartBeat  2019-09-20 00:44:11.392718080   20.376468    0   \n",
       "\n",
       "    teS      byt  pkt  \n",
       "0  2441  76688.0  668  \n",
       "1  2458    496.0    4  \n",
       "2  2519    496.0    4  \n",
       "3  2631   2696.0   18  \n",
       "4  2651   2696.0   18  \n",
       "\n",
       "[5 rows x 29 columns]"
      ]
     },
     "metadata": {},
     "output_type": "display_data"
    }
   ],
   "source": [
    "display(df_old.head(5))"
   ]
  },
  {
   "cell_type": "code",
   "execution_count": 5,
   "metadata": {},
   "outputs": [],
   "source": [
    "gen_data = 'ctu-60-1/ctu-60-1-generated_new.csv'"
   ]
  },
  {
   "cell_type": "code",
   "execution_count": 6,
   "metadata": {},
   "outputs": [],
   "source": [
    "df_gen = pd.read_csv(gen_data)"
   ]
  },
  {
   "cell_type": "code",
   "execution_count": 7,
   "metadata": {},
   "outputs": [
    {
     "data": {
      "text/plain": [
       "(159, 10)"
      ]
     },
     "execution_count": 7,
     "metadata": {},
     "output_type": "execute_result"
    }
   ],
   "source": [
    "df_gen.shape"
   ]
  },
  {
   "cell_type": "code",
   "execution_count": 8,
   "metadata": {},
   "outputs": [
    {
     "data": {
      "text/html": [
       "<div>\n",
       "<style scoped>\n",
       "    .dataframe tbody tr th:only-of-type {\n",
       "        vertical-align: middle;\n",
       "    }\n",
       "\n",
       "    .dataframe tbody tr th {\n",
       "        vertical-align: top;\n",
       "    }\n",
       "\n",
       "    .dataframe thead th {\n",
       "        text-align: right;\n",
       "    }\n",
       "</style>\n",
       "<table border=\"1\" class=\"dataframe\">\n",
       "  <thead>\n",
       "    <tr style=\"text-align: right;\">\n",
       "      <th></th>\n",
       "      <th>hour</th>\n",
       "      <th>time_delta</th>\n",
       "      <th>byt</th>\n",
       "      <th>pkt</th>\n",
       "      <th>time_duration</th>\n",
       "      <th>sp</th>\n",
       "      <th>dp</th>\n",
       "      <th>sa</th>\n",
       "      <th>da</th>\n",
       "      <th>pr</th>\n",
       "    </tr>\n",
       "  </thead>\n",
       "  <tbody>\n",
       "    <tr>\n",
       "      <th>0</th>\n",
       "      <td>0</td>\n",
       "      <td>0.000000</td>\n",
       "      <td>1</td>\n",
       "      <td>1</td>\n",
       "      <td>345.625166</td>\n",
       "      <td>39907</td>\n",
       "      <td>122</td>\n",
       "      <td>192.168.1.195</td>\n",
       "      <td>193.183.76.82</td>\n",
       "      <td>TCP</td>\n",
       "    </tr>\n",
       "    <tr>\n",
       "      <th>1</th>\n",
       "      <td>0</td>\n",
       "      <td>0.000000</td>\n",
       "      <td>2</td>\n",
       "      <td>436</td>\n",
       "      <td>335.356014</td>\n",
       "      <td>53265</td>\n",
       "      <td>122</td>\n",
       "      <td>192.168.1.195</td>\n",
       "      <td>1.116.168.52</td>\n",
       "      <td>TCP</td>\n",
       "    </tr>\n",
       "    <tr>\n",
       "      <th>2</th>\n",
       "      <td>0</td>\n",
       "      <td>741.977617</td>\n",
       "      <td>1</td>\n",
       "      <td>59</td>\n",
       "      <td>0.000000</td>\n",
       "      <td>59693</td>\n",
       "      <td>22</td>\n",
       "      <td>192.168.1.195</td>\n",
       "      <td>149.128.168.147</td>\n",
       "      <td>TCP</td>\n",
       "    </tr>\n",
       "    <tr>\n",
       "      <th>3</th>\n",
       "      <td>0</td>\n",
       "      <td>0.000000</td>\n",
       "      <td>1</td>\n",
       "      <td>29954</td>\n",
       "      <td>308.274057</td>\n",
       "      <td>50066</td>\n",
       "      <td>122</td>\n",
       "      <td>192.168.1.195</td>\n",
       "      <td>5.1.251.154</td>\n",
       "      <td>UDP</td>\n",
       "    </tr>\n",
       "    <tr>\n",
       "      <th>4</th>\n",
       "      <td>0</td>\n",
       "      <td>24.468991</td>\n",
       "      <td>1</td>\n",
       "      <td>3849</td>\n",
       "      <td>0.000000</td>\n",
       "      <td>35652</td>\n",
       "      <td>80</td>\n",
       "      <td>192.168.1.195</td>\n",
       "      <td>1.255.93.13</td>\n",
       "      <td>TCP</td>\n",
       "    </tr>\n",
       "    <tr>\n",
       "      <th>5</th>\n",
       "      <td>0</td>\n",
       "      <td>1342.259204</td>\n",
       "      <td>1</td>\n",
       "      <td>14</td>\n",
       "      <td>35.909643</td>\n",
       "      <td>34406</td>\n",
       "      <td>22</td>\n",
       "      <td>192.168.1.195</td>\n",
       "      <td>1.1.93.153</td>\n",
       "      <td>UDP</td>\n",
       "    </tr>\n",
       "    <tr>\n",
       "      <th>6</th>\n",
       "      <td>0</td>\n",
       "      <td>634.313947</td>\n",
       "      <td>1</td>\n",
       "      <td>11798</td>\n",
       "      <td>0.000000</td>\n",
       "      <td>58586</td>\n",
       "      <td>22</td>\n",
       "      <td>192.168.1.195</td>\n",
       "      <td>193.1.76.124</td>\n",
       "      <td>UDP</td>\n",
       "    </tr>\n",
       "    <tr>\n",
       "      <th>7</th>\n",
       "      <td>0</td>\n",
       "      <td>355.988087</td>\n",
       "      <td>1</td>\n",
       "      <td>8</td>\n",
       "      <td>243.168421</td>\n",
       "      <td>36019</td>\n",
       "      <td>122</td>\n",
       "      <td>192.168.1.195</td>\n",
       "      <td>1.1.97.60</td>\n",
       "      <td>UDP</td>\n",
       "    </tr>\n",
       "    <tr>\n",
       "      <th>8</th>\n",
       "      <td>0</td>\n",
       "      <td>379.628959</td>\n",
       "      <td>1</td>\n",
       "      <td>7814</td>\n",
       "      <td>276.160535</td>\n",
       "      <td>59683</td>\n",
       "      <td>442</td>\n",
       "      <td>192.168.1.195</td>\n",
       "      <td>5.100.93.50</td>\n",
       "      <td>UDP</td>\n",
       "    </tr>\n",
       "    <tr>\n",
       "      <th>9</th>\n",
       "      <td>0</td>\n",
       "      <td>1192.597230</td>\n",
       "      <td>1</td>\n",
       "      <td>28525</td>\n",
       "      <td>168.959623</td>\n",
       "      <td>122</td>\n",
       "      <td>52</td>\n",
       "      <td>192.168.1.195</td>\n",
       "      <td>1.183.231.192</td>\n",
       "      <td>UDP</td>\n",
       "    </tr>\n",
       "  </tbody>\n",
       "</table>\n",
       "</div>"
      ],
      "text/plain": [
       "   hour   time_delta  byt    pkt  time_duration     sp   dp             sa  \\\n",
       "0     0     0.000000    1      1     345.625166  39907  122  192.168.1.195   \n",
       "1     0     0.000000    2    436     335.356014  53265  122  192.168.1.195   \n",
       "2     0   741.977617    1     59       0.000000  59693   22  192.168.1.195   \n",
       "3     0     0.000000    1  29954     308.274057  50066  122  192.168.1.195   \n",
       "4     0    24.468991    1   3849       0.000000  35652   80  192.168.1.195   \n",
       "5     0  1342.259204    1     14      35.909643  34406   22  192.168.1.195   \n",
       "6     0   634.313947    1  11798       0.000000  58586   22  192.168.1.195   \n",
       "7     0   355.988087    1      8     243.168421  36019  122  192.168.1.195   \n",
       "8     0   379.628959    1   7814     276.160535  59683  442  192.168.1.195   \n",
       "9     0  1192.597230    1  28525     168.959623    122   52  192.168.1.195   \n",
       "\n",
       "                da   pr  \n",
       "0    193.183.76.82  TCP  \n",
       "1     1.116.168.52  TCP  \n",
       "2  149.128.168.147  TCP  \n",
       "3      5.1.251.154  UDP  \n",
       "4      1.255.93.13  TCP  \n",
       "5       1.1.93.153  UDP  \n",
       "6     193.1.76.124  UDP  \n",
       "7        1.1.97.60  UDP  \n",
       "8      5.100.93.50  UDP  \n",
       "9    1.183.231.192  UDP  "
      ]
     },
     "metadata": {},
     "output_type": "display_data"
    }
   ],
   "source": [
    "display(df_gen.head(10))"
   ]
  },
  {
   "cell_type": "code",
   "execution_count": null,
   "metadata": {},
   "outputs": [],
   "source": []
  },
  {
   "cell_type": "markdown",
   "metadata": {},
   "source": [
    "# Comparison"
   ]
  },
  {
   "cell_type": "markdown",
   "metadata": {},
   "source": [
    "## Flow time"
   ]
  },
  {
   "cell_type": "code",
   "execution_count": 9,
   "metadata": {},
   "outputs": [],
   "source": [
    "df2 = (sorted_df.teT\n",
    "       .value_counts()\n",
    "       .rename_axis('flow_time')\n",
    "       .reset_index(name='count'))\n",
    "\n",
    "\n",
    "df_kk = sorted_df.sample(n=159)\n",
    "df_kk = (df_kk.teT\n",
    "       .value_counts()\n",
    "       .rename_axis('flow_time')\n",
    "       .reset_index(name='count'))\n"
   ]
  },
  {
   "cell_type": "code",
   "execution_count": 10,
   "metadata": {},
   "outputs": [
    {
     "data": {
      "text/html": [
       "<div>\n",
       "<style scoped>\n",
       "    .dataframe tbody tr th:only-of-type {\n",
       "        vertical-align: middle;\n",
       "    }\n",
       "\n",
       "    .dataframe tbody tr th {\n",
       "        vertical-align: top;\n",
       "    }\n",
       "\n",
       "    .dataframe thead th {\n",
       "        text-align: right;\n",
       "    }\n",
       "</style>\n",
       "<table border=\"1\" class=\"dataframe\">\n",
       "  <thead>\n",
       "    <tr style=\"text-align: right;\">\n",
       "      <th></th>\n",
       "      <th>flow_time</th>\n",
       "      <th>count</th>\n",
       "    </tr>\n",
       "  </thead>\n",
       "  <tbody>\n",
       "    <tr>\n",
       "      <th>0</th>\n",
       "      <td>0</td>\n",
       "      <td>78</td>\n",
       "    </tr>\n",
       "    <tr>\n",
       "      <th>1</th>\n",
       "      <td>1</td>\n",
       "      <td>64</td>\n",
       "    </tr>\n",
       "    <tr>\n",
       "      <th>2</th>\n",
       "      <td>5</td>\n",
       "      <td>25</td>\n",
       "    </tr>\n",
       "    <tr>\n",
       "      <th>3</th>\n",
       "      <td>7</td>\n",
       "      <td>25</td>\n",
       "    </tr>\n",
       "    <tr>\n",
       "      <th>4</th>\n",
       "      <td>2</td>\n",
       "      <td>24</td>\n",
       "    </tr>\n",
       "  </tbody>\n",
       "</table>\n",
       "</div>"
      ],
      "text/plain": [
       "   flow_time  count\n",
       "0          0     78\n",
       "1          1     64\n",
       "2          5     25\n",
       "3          7     25\n",
       "4          2     24"
      ]
     },
     "metadata": {},
     "output_type": "display_data"
    }
   ],
   "source": [
    "display(df2.head())"
   ]
  },
  {
   "cell_type": "code",
   "execution_count": 11,
   "metadata": {},
   "outputs": [],
   "source": [
    "df2 = df2.sort_values(by='flow_time')"
   ]
  },
  {
   "cell_type": "code",
   "execution_count": 12,
   "metadata": {},
   "outputs": [
    {
     "data": {
      "text/plain": [
       "(24, 2)"
      ]
     },
     "execution_count": 12,
     "metadata": {},
     "output_type": "execute_result"
    }
   ],
   "source": [
    "df_kk.shape"
   ]
  },
  {
   "cell_type": "code",
   "execution_count": 13,
   "metadata": {},
   "outputs": [
    {
     "data": {
      "text/html": [
       "<div>\n",
       "<style scoped>\n",
       "    .dataframe tbody tr th:only-of-type {\n",
       "        vertical-align: middle;\n",
       "    }\n",
       "\n",
       "    .dataframe tbody tr th {\n",
       "        vertical-align: top;\n",
       "    }\n",
       "\n",
       "    .dataframe thead th {\n",
       "        text-align: right;\n",
       "    }\n",
       "</style>\n",
       "<table border=\"1\" class=\"dataframe\">\n",
       "  <thead>\n",
       "    <tr style=\"text-align: right;\">\n",
       "      <th></th>\n",
       "      <th>flow_time</th>\n",
       "      <th>count</th>\n",
       "    </tr>\n",
       "  </thead>\n",
       "  <tbody>\n",
       "    <tr>\n",
       "      <th>0</th>\n",
       "      <td>0</td>\n",
       "      <td>17</td>\n",
       "    </tr>\n",
       "    <tr>\n",
       "      <th>1</th>\n",
       "      <td>1</td>\n",
       "      <td>15</td>\n",
       "    </tr>\n",
       "    <tr>\n",
       "      <th>2</th>\n",
       "      <td>10</td>\n",
       "      <td>9</td>\n",
       "    </tr>\n",
       "    <tr>\n",
       "      <th>3</th>\n",
       "      <td>17</td>\n",
       "      <td>9</td>\n",
       "    </tr>\n",
       "    <tr>\n",
       "      <th>4</th>\n",
       "      <td>6</td>\n",
       "      <td>9</td>\n",
       "    </tr>\n",
       "    <tr>\n",
       "      <th>5</th>\n",
       "      <td>2</td>\n",
       "      <td>8</td>\n",
       "    </tr>\n",
       "    <tr>\n",
       "      <th>6</th>\n",
       "      <td>19</td>\n",
       "      <td>7</td>\n",
       "    </tr>\n",
       "    <tr>\n",
       "      <th>7</th>\n",
       "      <td>13</td>\n",
       "      <td>7</td>\n",
       "    </tr>\n",
       "    <tr>\n",
       "      <th>8</th>\n",
       "      <td>11</td>\n",
       "      <td>7</td>\n",
       "    </tr>\n",
       "    <tr>\n",
       "      <th>9</th>\n",
       "      <td>23</td>\n",
       "      <td>7</td>\n",
       "    </tr>\n",
       "    <tr>\n",
       "      <th>10</th>\n",
       "      <td>4</td>\n",
       "      <td>6</td>\n",
       "    </tr>\n",
       "    <tr>\n",
       "      <th>11</th>\n",
       "      <td>21</td>\n",
       "      <td>6</td>\n",
       "    </tr>\n",
       "    <tr>\n",
       "      <th>12</th>\n",
       "      <td>12</td>\n",
       "      <td>6</td>\n",
       "    </tr>\n",
       "    <tr>\n",
       "      <th>13</th>\n",
       "      <td>8</td>\n",
       "      <td>5</td>\n",
       "    </tr>\n",
       "    <tr>\n",
       "      <th>14</th>\n",
       "      <td>18</td>\n",
       "      <td>5</td>\n",
       "    </tr>\n",
       "    <tr>\n",
       "      <th>15</th>\n",
       "      <td>22</td>\n",
       "      <td>5</td>\n",
       "    </tr>\n",
       "    <tr>\n",
       "      <th>16</th>\n",
       "      <td>9</td>\n",
       "      <td>4</td>\n",
       "    </tr>\n",
       "    <tr>\n",
       "      <th>17</th>\n",
       "      <td>5</td>\n",
       "      <td>4</td>\n",
       "    </tr>\n",
       "    <tr>\n",
       "      <th>18</th>\n",
       "      <td>14</td>\n",
       "      <td>4</td>\n",
       "    </tr>\n",
       "    <tr>\n",
       "      <th>19</th>\n",
       "      <td>15</td>\n",
       "      <td>4</td>\n",
       "    </tr>\n",
       "    <tr>\n",
       "      <th>20</th>\n",
       "      <td>16</td>\n",
       "      <td>4</td>\n",
       "    </tr>\n",
       "    <tr>\n",
       "      <th>21</th>\n",
       "      <td>3</td>\n",
       "      <td>4</td>\n",
       "    </tr>\n",
       "    <tr>\n",
       "      <th>22</th>\n",
       "      <td>20</td>\n",
       "      <td>4</td>\n",
       "    </tr>\n",
       "    <tr>\n",
       "      <th>23</th>\n",
       "      <td>7</td>\n",
       "      <td>3</td>\n",
       "    </tr>\n",
       "  </tbody>\n",
       "</table>\n",
       "</div>"
      ],
      "text/plain": [
       "    flow_time  count\n",
       "0           0     17\n",
       "1           1     15\n",
       "2          10      9\n",
       "3          17      9\n",
       "4           6      9\n",
       "5           2      8\n",
       "6          19      7\n",
       "7          13      7\n",
       "8          11      7\n",
       "9          23      7\n",
       "10          4      6\n",
       "11         21      6\n",
       "12         12      6\n",
       "13          8      5\n",
       "14         18      5\n",
       "15         22      5\n",
       "16          9      4\n",
       "17          5      4\n",
       "18         14      4\n",
       "19         15      4\n",
       "20         16      4\n",
       "21          3      4\n",
       "22         20      4\n",
       "23          7      3"
      ]
     },
     "execution_count": 13,
     "metadata": {},
     "output_type": "execute_result"
    }
   ],
   "source": [
    "df_kk"
   ]
  },
  {
   "cell_type": "code",
   "execution_count": 14,
   "metadata": {},
   "outputs": [],
   "source": [
    "df2_dict = df_kk.to_dict()"
   ]
  },
  {
   "cell_type": "code",
   "execution_count": 15,
   "metadata": {},
   "outputs": [],
   "source": [
    "# df2_dict"
   ]
  },
  {
   "cell_type": "code",
   "execution_count": 16,
   "metadata": {},
   "outputs": [
    {
     "name": "stdout",
     "output_type": "stream",
     "text": [
      "[0, 0, 0, 0, 0, 0, 0, 0, 0, 0, 0, 0, 0, 0, 0, 0, 0, 0, 0, 0, 0, 0, 0, 0]\n",
      "0\n",
      "1\n",
      "10\n",
      "17\n",
      "6\n",
      "2\n",
      "19\n",
      "13\n",
      "11\n",
      "23\n",
      "4\n",
      "21\n",
      "12\n",
      "8\n",
      "18\n",
      "22\n",
      "9\n",
      "5\n",
      "14\n",
      "15\n",
      "16\n",
      "3\n",
      "20\n",
      "7\n",
      "[17, 15, 8, 4, 6, 4, 9, 3, 5, 4, 9, 7, 6, 7, 4, 4, 4, 9, 5, 7, 4, 6, 5, 7]\n"
     ]
    }
   ],
   "source": [
    "x_values = [i for i in range(24)]\n",
    "y_values = [0 for i in range(24)]\n",
    "print(y_values)\n",
    "for k,v in df2_dict['count'].items():\n",
    "    time = int(df2_dict['flow_time'][k])\n",
    "    print(time)\n",
    "    y_values[time] = v\n",
    "print(y_values)"
   ]
  },
  {
   "cell_type": "code",
   "execution_count": null,
   "metadata": {},
   "outputs": [],
   "source": []
  },
  {
   "cell_type": "code",
   "execution_count": 17,
   "metadata": {},
   "outputs": [
    {
     "data": {
      "image/png": "[encoded data removed]",
      "text/plain": [
       "<Figure size 432x288 with 1 Axes>"
      ]
     },
     "metadata": {
      "needs_background": "light"
     },
     "output_type": "display_data"
    }
   ],
   "source": [
    "plt.figure(0)\n",
    "plt.plot(y_values, label='flow_counts')\n",
    "plt.xticks(x_values)\n",
    "plt.title(\"Number of flows per hour\")\n",
    "plt.xlabel(\"Hour of day in 24 hour format\")\n",
    "plt.ylabel(\"number of flows for given hour\")\n",
    "plt.legend()\n",
    "plt.show()"
   ]
  },
  {
   "cell_type": "code",
   "execution_count": null,
   "metadata": {},
   "outputs": [],
   "source": []
  },
  {
   "cell_type": "code",
   "execution_count": 18,
   "metadata": {},
   "outputs": [
    {
     "data": {
      "text/html": [
       "<div>\n",
       "<style scoped>\n",
       "    .dataframe tbody tr th:only-of-type {\n",
       "        vertical-align: middle;\n",
       "    }\n",
       "\n",
       "    .dataframe tbody tr th {\n",
       "        vertical-align: top;\n",
       "    }\n",
       "\n",
       "    .dataframe thead th {\n",
       "        text-align: right;\n",
       "    }\n",
       "</style>\n",
       "<table border=\"1\" class=\"dataframe\">\n",
       "  <thead>\n",
       "    <tr style=\"text-align: right;\">\n",
       "      <th></th>\n",
       "      <th>hour</th>\n",
       "      <th>time_delta</th>\n",
       "      <th>byt</th>\n",
       "      <th>pkt</th>\n",
       "      <th>time_duration</th>\n",
       "      <th>sp</th>\n",
       "      <th>dp</th>\n",
       "      <th>sa</th>\n",
       "      <th>da</th>\n",
       "      <th>pr</th>\n",
       "    </tr>\n",
       "  </thead>\n",
       "  <tbody>\n",
       "    <tr>\n",
       "      <th>153</th>\n",
       "      <td>22</td>\n",
       "      <td>0.000000</td>\n",
       "      <td>1</td>\n",
       "      <td>1895</td>\n",
       "      <td>0.000000</td>\n",
       "      <td>47476</td>\n",
       "      <td>80</td>\n",
       "      <td>192.168.1.195</td>\n",
       "      <td>193.1.168.93</td>\n",
       "      <td>UDP</td>\n",
       "    </tr>\n",
       "    <tr>\n",
       "      <th>154</th>\n",
       "      <td>22</td>\n",
       "      <td>0.000000</td>\n",
       "      <td>1</td>\n",
       "      <td>740</td>\n",
       "      <td>335.528543</td>\n",
       "      <td>44023</td>\n",
       "      <td>22</td>\n",
       "      <td>192.168.1.195</td>\n",
       "      <td>5.128.93.60</td>\n",
       "      <td>TCP</td>\n",
       "    </tr>\n",
       "    <tr>\n",
       "      <th>155</th>\n",
       "      <td>22</td>\n",
       "      <td>321.263685</td>\n",
       "      <td>1</td>\n",
       "      <td>54</td>\n",
       "      <td>0.000000</td>\n",
       "      <td>47469</td>\n",
       "      <td>122</td>\n",
       "      <td>192.168.1.195</td>\n",
       "      <td>1.116.168.140</td>\n",
       "      <td>TCP</td>\n",
       "    </tr>\n",
       "    <tr>\n",
       "      <th>156</th>\n",
       "      <td>22</td>\n",
       "      <td>508.156236</td>\n",
       "      <td>30</td>\n",
       "      <td>1</td>\n",
       "      <td>0.000000</td>\n",
       "      <td>36878</td>\n",
       "      <td>80</td>\n",
       "      <td>192.168.1.195</td>\n",
       "      <td>5.182.168.93</td>\n",
       "      <td>UDP</td>\n",
       "    </tr>\n",
       "    <tr>\n",
       "      <th>158</th>\n",
       "      <td>22</td>\n",
       "      <td>893.699712</td>\n",
       "      <td>1</td>\n",
       "      <td>10</td>\n",
       "      <td>119.822427</td>\n",
       "      <td>55519</td>\n",
       "      <td>52</td>\n",
       "      <td>192.168.1.195</td>\n",
       "      <td>1.182.231.13</td>\n",
       "      <td>UDP</td>\n",
       "    </tr>\n",
       "  </tbody>\n",
       "</table>\n",
       "</div>"
      ],
      "text/plain": [
       "     hour  time_delta  byt   pkt  time_duration     sp   dp             sa  \\\n",
       "153    22    0.000000    1  1895       0.000000  47476   80  192.168.1.195   \n",
       "154    22    0.000000    1   740     335.528543  44023   22  192.168.1.195   \n",
       "155    22  321.263685    1    54       0.000000  47469  122  192.168.1.195   \n",
       "156    22  508.156236   30     1       0.000000  36878   80  192.168.1.195   \n",
       "158    22  893.699712    1    10     119.822427  55519   52  192.168.1.195   \n",
       "\n",
       "                da   pr  \n",
       "153   193.1.168.93  UDP  \n",
       "154    5.128.93.60  TCP  \n",
       "155  1.116.168.140  TCP  \n",
       "156   5.182.168.93  UDP  \n",
       "158   1.182.231.13  UDP  "
      ]
     },
     "execution_count": 18,
     "metadata": {},
     "output_type": "execute_result"
    }
   ],
   "source": [
    "gen_sorted_df = df_gen.sort_values(by='hour')\n",
    "gen_sorted_df.tail()"
   ]
  },
  {
   "cell_type": "code",
   "execution_count": 19,
   "metadata": {},
   "outputs": [],
   "source": [
    "gen_df2 = (gen_sorted_df.hour\n",
    "       .value_counts()\n",
    "       .rename_axis('flow_time')\n",
    "       .reset_index(name='count'))"
   ]
  },
  {
   "cell_type": "code",
   "execution_count": 20,
   "metadata": {},
   "outputs": [
    {
     "data": {
      "text/plain": [
       "(17, 2)"
      ]
     },
     "execution_count": 20,
     "metadata": {},
     "output_type": "execute_result"
    }
   ],
   "source": [
    "gen_df2.shape"
   ]
  },
  {
   "cell_type": "code",
   "execution_count": 21,
   "metadata": {},
   "outputs": [],
   "source": [
    "gen_df2_dict = gen_df2.to_dict()"
   ]
  },
  {
   "cell_type": "code",
   "execution_count": 22,
   "metadata": {},
   "outputs": [
    {
     "name": "stdout",
     "output_type": "stream",
     "text": [
      "[10, 3, 5, 5, 13, 0, 13, 0, 6, 15, 0, 8, 3, 12, 0, 7, 18, 0, 8, 13, 0, 6, 14, 0]\n"
     ]
    }
   ],
   "source": [
    "x_values = [i for i in range(24)]\n",
    "y_values_2 = [0 for i in range(24)]\n",
    "# print(y_values_2)\n",
    "for k,v in gen_df2_dict['count'].items():\n",
    "    time = gen_df2_dict['flow_time'][k]\n",
    "    y_values_2[time] = v\n",
    "print(y_values_2)"
   ]
  },
  {
   "cell_type": "code",
   "execution_count": 23,
   "metadata": {},
   "outputs": [
    {
     "data": {
      "text/plain": [
       "<matplotlib.legend.Legend at 0x7f8cfb43a8b0>"
      ]
     },
     "execution_count": 23,
     "metadata": {},
     "output_type": "execute_result"
    },
    {
     "data": {
      "image/png": "[encoded data removed]",
      "text/plain": [
       "<Figure size 432x288 with 1 Axes>"
      ]
     },
     "metadata": {
      "needs_background": "light"
     },
     "output_type": "display_data"
    }
   ],
   "source": [
    "plt.figure(0)\n",
    "plt.plot(y_values, label='flow_counts_original')\n",
    "plt.plot(y_values_2, label='flow_counts_generated')\n",
    "\n",
    "plt.xticks(x_values)\n",
    "plt.title(\"Number of flows per hour\")\n",
    "plt.xlabel(\"Hour of day in 24 hour format\")\n",
    "plt.ylabel(\"number of flows for given hour\")\n",
    "plt.legend()"
   ]
  },
  {
   "cell_type": "code",
   "execution_count": null,
   "metadata": {},
   "outputs": [],
   "source": []
  },
  {
   "cell_type": "markdown",
   "metadata": {},
   "source": [
    "## Protocol Distribution"
   ]
  },
  {
   "cell_type": "code",
   "execution_count": 24,
   "metadata": {},
   "outputs": [],
   "source": [
    "# df_group_proto = (df_old['pr']\n",
    "#        .value_counts()\n",
    "#        .rename_axis('protocol')\n",
    "#        .reset_index(name='count'))"
   ]
  },
  {
   "cell_type": "code",
   "execution_count": 27,
   "metadata": {},
   "outputs": [
    {
     "data": {
      "text/plain": [
       "<AxesSubplot:>"
      ]
     },
     "execution_count": 27,
     "metadata": {},
     "output_type": "execute_result"
    },
    {
     "data": {
      "image/png": "[encoded data removed]",
      "text/plain": [
       "<Figure size 432x288 with 1 Axes>"
      ]
     },
     "metadata": {
      "needs_background": "light"
     },
     "output_type": "display_data"
    }
   ],
   "source": [
    "sorted_df = sorted_df.sort_values(by='pr', ascending=False)\n",
    "sorted_df.pr.hist(bins=3)"
   ]
  },
  {
   "cell_type": "code",
   "execution_count": 28,
   "metadata": {},
   "outputs": [
    {
     "data": {
      "text/plain": [
       "<AxesSubplot:>"
      ]
     },
     "execution_count": 28,
     "metadata": {},
     "output_type": "execute_result"
    },
    {
     "data": {
      "image/png": "[encoded data removed]",
      "text/plain": [
       "<Figure size 432x288 with 1 Axes>"
      ]
     },
     "metadata": {
      "needs_background": "light"
     },
     "output_type": "display_data"
    }
   ],
   "source": [
    "gen_sorted_df = gen_sorted_df.sort_values(by='pr', ascending=False)\n",
    "gen_sorted_df.pr.hist(bins=3)"
   ]
  },
  {
   "cell_type": "code",
   "execution_count": null,
   "metadata": {},
   "outputs": [],
   "source": []
  },
  {
   "cell_type": "markdown",
   "metadata": {},
   "source": [
    "## Source port"
   ]
  },
  {
   "cell_type": "code",
   "execution_count": 29,
   "metadata": {
    "scrolled": true
   },
   "outputs": [
    {
     "data": {
      "text/plain": [
       "array([[<AxesSubplot:title={'center':'sp'}>]], dtype=object)"
      ]
     },
     "execution_count": 29,
     "metadata": {},
     "output_type": "execute_result"
    },
    {
     "data": {
      "image/png": "[encoded data removed]",
      "text/plain": [
       "<Figure size 432x288 with 1 Axes>"
      ]
     },
     "metadata": {
      "needs_background": "light"
     },
     "output_type": "display_data"
    }
   ],
   "source": [
    "sorted_df.hist(column='sp',bins=20, legend=True,sharex=True,sharey=True)"
   ]
  },
  {
   "cell_type": "code",
   "execution_count": 30,
   "metadata": {},
   "outputs": [
    {
     "data": {
      "text/plain": [
       "<AxesSubplot:>"
      ]
     },
     "execution_count": 30,
     "metadata": {},
     "output_type": "execute_result"
    },
    {
     "data": {
      "image/png": "[encoded data removed]",
      "text/plain": [
       "<Figure size 432x288 with 1 Axes>"
      ]
     },
     "metadata": {
      "needs_background": "light"
     },
     "output_type": "display_data"
    }
   ],
   "source": [
    "gen_sorted_df.sp.hist(bins=20)"
   ]
  },
  {
   "cell_type": "code",
   "execution_count": null,
   "metadata": {},
   "outputs": [],
   "source": []
  },
  {
   "cell_type": "markdown",
   "metadata": {},
   "source": [
    "## Destination Port"
   ]
  },
  {
   "cell_type": "code",
   "execution_count": 31,
   "metadata": {},
   "outputs": [
    {
     "data": {
      "text/plain": [
       "<AxesSubplot:>"
      ]
     },
     "execution_count": 31,
     "metadata": {},
     "output_type": "execute_result"
    },
    {
     "data": {
      "image/png": "[encoded data removed]",
      "text/plain": [
       "<Figure size 432x288 with 1 Axes>"
      ]
     },
     "metadata": {
      "needs_background": "light"
     },
     "output_type": "display_data"
    }
   ],
   "source": [
    "sorted_df.dp.hist(bins=20)"
   ]
  },
  {
   "cell_type": "code",
   "execution_count": 32,
   "metadata": {},
   "outputs": [
    {
     "data": {
      "text/plain": [
       "<AxesSubplot:>"
      ]
     },
     "execution_count": 32,
     "metadata": {},
     "output_type": "execute_result"
    },
    {
     "data": {
      "image/png": "[encoded data removed]",
      "text/plain": [
       "<Figure size 432x288 with 1 Axes>"
      ]
     },
     "metadata": {
      "needs_background": "light"
     },
     "output_type": "display_data"
    }
   ],
   "source": [
    "gen_sorted_df.dp.hist(bins=20, legend=True)"
   ]
  },
  {
   "cell_type": "code",
   "execution_count": null,
   "metadata": {},
   "outputs": [],
   "source": []
  },
  {
   "cell_type": "markdown",
   "metadata": {},
   "source": [
    "## Packets"
   ]
  },
  {
   "cell_type": "code",
   "execution_count": 33,
   "metadata": {},
   "outputs": [
    {
     "data": {
      "text/plain": [
       "<AxesSubplot:>"
      ]
     },
     "execution_count": 33,
     "metadata": {},
     "output_type": "execute_result"
    },
    {
     "data": {
      "image/png": "[encoded data removed]",
      "text/plain": [
       "<Figure size 432x288 with 1 Axes>"
      ]
     },
     "metadata": {
      "needs_background": "light"
     },
     "output_type": "display_data"
    }
   ],
   "source": [
    "sorted_df.pkt.hist(bins=20)"
   ]
  },
  {
   "cell_type": "code",
   "execution_count": 34,
   "metadata": {},
   "outputs": [
    {
     "data": {
      "text/plain": [
       "<AxesSubplot:>"
      ]
     },
     "execution_count": 34,
     "metadata": {},
     "output_type": "execute_result"
    },
    {
     "data": {
      "image/png": "[encoded data removed]",
      "text/plain": [
       "<Figure size 432x288 with 1 Axes>"
      ]
     },
     "metadata": {
      "needs_background": "light"
     },
     "output_type": "display_data"
    }
   ],
   "source": [
    "gen_sorted_df.pkt.hist(bins=20, legend=True)"
   ]
  },
  {
   "cell_type": "code",
   "execution_count": null,
   "metadata": {},
   "outputs": [],
   "source": []
  },
  {
   "cell_type": "markdown",
   "metadata": {},
   "source": [
    "## Bytes"
   ]
  },
  {
   "cell_type": "code",
   "execution_count": 35,
   "metadata": {},
   "outputs": [
    {
     "data": {
      "text/plain": [
       "<AxesSubplot:>"
      ]
     },
     "execution_count": 35,
     "metadata": {},
     "output_type": "execute_result"
    },
    {
     "data": {
      "image/png": "[encoded data removed]",
      "text/plain": [
       "<Figure size 432x288 with 1 Axes>"
      ]
     },
     "metadata": {
      "needs_background": "light"
     },
     "output_type": "display_data"
    }
   ],
   "source": [
    "sorted_df.byt.hist(bins=20)"
   ]
  },
  {
   "cell_type": "code",
   "execution_count": 36,
   "metadata": {},
   "outputs": [
    {
     "data": {
      "text/plain": [
       "<AxesSubplot:>"
      ]
     },
     "execution_count": 36,
     "metadata": {},
     "output_type": "execute_result"
    },
    {
     "data": {
      "image/png": "[encoded data removed]",
      "text/plain": [
       "<Figure size 432x288 with 1 Axes>"
      ]
     },
     "metadata": {
      "needs_background": "light"
     },
     "output_type": "display_data"
    }
   ],
   "source": [
    "gen_sorted_df.byt.hist(bins=20, legend=True)"
   ]
  },
  {
   "cell_type": "code",
   "execution_count": null,
   "metadata": {},
   "outputs": [],
   "source": []
  },
  {
   "cell_type": "code",
   "execution_count": null,
   "metadata": {},
   "outputs": [],
   "source": []
  }
 ],
 "metadata": {
  "kernelspec": {
   "display_name": "Python 3",
   "language": "python",
   "name": "python3"
  },
  "language_info": {
   "codemirror_mode": {
    "name": "ipython",
    "version": 3
   },
   "file_extension": ".py",
   "mimetype": "text/x-python",
   "name": "python",
   "nbconvert_exporter": "python",
   "pygments_lexer": "ipython3",
   "version": "3.8.8"
  }
 },
 "nbformat": 4,
 "nbformat_minor": 4
}
